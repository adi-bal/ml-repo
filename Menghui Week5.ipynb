{
 "cells": [
  {
   "cell_type": "code",
   "execution_count": 31,
   "id": "25eb9e7b",
   "metadata": {},
   "outputs": [],
   "source": [
    "import numpy as np\n",
    "import pandas as pd\n",
    "import seaborn as sns\n",
    "from matplotlib import pyplot as plt\n",
    "from sklearn.neighbors import KNeighborsClassifier"
   ]
  },
  {
   "cell_type": "code",
   "execution_count": 25,
   "id": "4d3de0c6",
   "metadata": {},
   "outputs": [],
   "source": [
    "df1 = pd.read_csv('SEL.csv')\n",
    "df2 = pd.read_csv('Noise.csv')"
   ]
  },
  {
   "cell_type": "code",
   "execution_count": 26,
   "id": "abbf30c6",
   "metadata": {},
   "outputs": [],
   "source": [
    "output1 = pd.merge(df1, df2,\n",
    "                  on = 'Time',\n",
    "                  how = 'outer')"
   ]
  },
  {
   "cell_type": "code",
   "execution_count": 27,
   "id": "53e1d89a",
   "metadata": {},
   "outputs": [
    {
     "name": "stdout",
     "output_type": "stream",
     "text": [
      "              Time  ChannelA ChannelB_x  ChannelD ChannelB_y\n",
      "0              (s)       (V)       (mV)       (V)        (V)\n",
      "1              NaN       NaN        NaN       NaN        NaN\n",
      "2                0  1.614173   86.61417  3.385827  0.3858268\n",
      "3         0.000006  1.614173   86.61417  3.385827        NaN\n",
      "4       0.00001201  1.574803   90.55118  3.425197        NaN\n",
      "...            ...       ...        ...       ...        ...\n",
      "130954  0.06584153       NaN        NaN       NaN  0.3779528\n",
      "130955  0.06584253       NaN        NaN       NaN  0.3779528\n",
      "130956  0.06584354       NaN        NaN       NaN  0.3858268\n",
      "130957  0.06584454       NaN        NaN       NaN  0.3858268\n",
      "130958  0.06584555       NaN        NaN       NaN  0.3779528\n",
      "\n",
      "[130959 rows x 5 columns]\n"
     ]
    }
   ],
   "source": [
    "print(output1)"
   ]
  },
  {
   "cell_type": "code",
   "execution_count": 22,
   "id": "23429574-881b-4582-9d52-f2612f2a8a6f",
   "metadata": {},
   "outputs": [
    {
     "name": "stdout",
     "output_type": "stream",
     "text": [
      "<class 'pandas.core.frame.DataFrame'>\n",
      "Int64Index: 130959 entries, 0 to 130958\n",
      "Data columns (total 5 columns):\n",
      " #   Column      Non-Null Count   Dtype \n",
      "---  ------      --------------   ----- \n",
      " 0   Time        130958 non-null  object\n",
      " 1   ChannelA    65533 non-null   object\n",
      " 2   ChannelB_x  65533 non-null   object\n",
      " 3   ChannelD    65533 non-null   object\n",
      " 4   ChannelB_y  65533 non-null   object\n",
      "dtypes: object(5)\n",
      "memory usage: 6.0+ MB\n"
     ]
    }
   ],
   "source": [
    "output1.info()"
   ]
  },
  {
   "cell_type": "code",
   "execution_count": 23,
   "id": "1b281723-8bab-4c05-b970-bd4d1e0b4dfc",
   "metadata": {},
   "outputs": [
    {
     "data": {
      "text/html": [
       "<div>\n",
       "<style scoped>\n",
       "    .dataframe tbody tr th:only-of-type {\n",
       "        vertical-align: middle;\n",
       "    }\n",
       "\n",
       "    .dataframe tbody tr th {\n",
       "        vertical-align: top;\n",
       "    }\n",
       "\n",
       "    .dataframe thead th {\n",
       "        text-align: right;\n",
       "    }\n",
       "</style>\n",
       "<table border=\"1\" class=\"dataframe\">\n",
       "  <thead>\n",
       "    <tr style=\"text-align: right;\">\n",
       "      <th></th>\n",
       "      <th>Time</th>\n",
       "      <th>ChannelA</th>\n",
       "      <th>ChannelB_x</th>\n",
       "      <th>ChannelD</th>\n",
       "      <th>ChannelB_y</th>\n",
       "    </tr>\n",
       "  </thead>\n",
       "  <tbody>\n",
       "    <tr>\n",
       "      <th>count</th>\n",
       "      <td>130958</td>\n",
       "      <td>65533</td>\n",
       "      <td>65533</td>\n",
       "      <td>65533</td>\n",
       "      <td>65533</td>\n",
       "    </tr>\n",
       "    <tr>\n",
       "      <th>unique</th>\n",
       "      <td>130958</td>\n",
       "      <td>9</td>\n",
       "      <td>8</td>\n",
       "      <td>7</td>\n",
       "      <td>6</td>\n",
       "    </tr>\n",
       "    <tr>\n",
       "      <th>top</th>\n",
       "      <td>0.38025471</td>\n",
       "      <td>1.614173</td>\n",
       "      <td>90.55118</td>\n",
       "      <td>3.385827</td>\n",
       "      <td>0.3779528</td>\n",
       "    </tr>\n",
       "    <tr>\n",
       "      <th>freq</th>\n",
       "      <td>1</td>\n",
       "      <td>33750</td>\n",
       "      <td>32107</td>\n",
       "      <td>41310</td>\n",
       "      <td>34354</td>\n",
       "    </tr>\n",
       "  </tbody>\n",
       "</table>\n",
       "</div>"
      ],
      "text/plain": [
       "              Time  ChannelA ChannelB_x  ChannelD ChannelB_y\n",
       "count       130958     65533      65533     65533      65533\n",
       "unique      130958         9          8         7          6\n",
       "top     0.38025471  1.614173   90.55118  3.385827  0.3779528\n",
       "freq             1     33750      32107     41310      34354"
      ]
     },
     "execution_count": 23,
     "metadata": {},
     "output_type": "execute_result"
    }
   ],
   "source": [
    "output1.describe()"
   ]
  },
  {
   "cell_type": "code",
   "execution_count": 30,
   "id": "a544c1a6-a657-4ce2-b0fb-607d60a3405d",
   "metadata": {},
   "outputs": [
    {
     "data": {
      "text/plain": [
       "Time              1\n",
       "ChannelA      65426\n",
       "ChannelB_x    65426\n",
       "ChannelD      65426\n",
       "ChannelB_y    65426\n",
       "dtype: int64"
      ]
     },
     "execution_count": 30,
     "metadata": {},
     "output_type": "execute_result"
    }
   ],
   "source": [
    "output1.isnull().sum()"
   ]
  },
  {
   "cell_type": "code",
   "execution_count": null,
   "id": "4705a278-7f22-4cfe-a053-399c8cb2487a",
   "metadata": {},
   "outputs": [],
   "source": [
    "error_rate=[]\n",
    "for i in range(1,60):\n",
    "    \n"
   ]
  }
 ],
 "metadata": {
  "kernelspec": {
   "display_name": "Python 3",
   "language": "python",
   "name": "python3"
  },
  "language_info": {
   "codemirror_mode": {
    "name": "ipython",
    "version": 3
   },
   "file_extension": ".py",
   "mimetype": "text/x-python",
   "name": "python",
   "nbconvert_exporter": "python",
   "pygments_lexer": "ipython3",
   "version": "3.8.8"
  }
 },
 "nbformat": 4,
 "nbformat_minor": 5
}
